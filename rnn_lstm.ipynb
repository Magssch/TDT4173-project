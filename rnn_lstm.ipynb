{
 "cells": [
  {
   "cell_type": "code",
   "execution_count": 1,
   "metadata": {
    "_cell_guid": "b1076dfc-b9ad-4769-8c92-a6c4dae69d19",
    "_uuid": "8f2839f25d086af736a60e9eeb907d3b93b6e0e5",
    "execution": {
     "iopub.execute_input": "2020-11-26T16:14:37.219968Z",
     "iopub.status.busy": "2020-11-26T16:14:37.219064Z",
     "iopub.status.idle": "2020-11-26T16:14:43.765050Z",
     "shell.execute_reply": "2020-11-26T16:14:43.763405Z"
    },
    "papermill": {
     "duration": 6.565617,
     "end_time": "2020-11-26T16:14:43.765201",
     "exception": false,
     "start_time": "2020-11-26T16:14:37.199584",
     "status": "completed"
    },
    "tags": []
   },
   "outputs": [],
   "source": [
    "import numpy as np\n",
    "import pandas as pd\n",
    "import tensorflow as tf\n",
    "import matplotlib.pyplot as plt\n",
    "import re\n",
    "import random\n",
    "import warnings\n",
    "import tensorflow as tf\n",
    "\n",
    "from tensorflow import keras as ks\n",
    "from tensorflow.keras import layers\n",
    "from keras.models import load_model\n",
    "from keras import callbacks "
   ]
  },
  {
   "cell_type": "markdown",
   "metadata": {
    "papermill": {
     "duration": 0.01087,
     "end_time": "2020-11-26T16:14:43.787817",
     "exception": false,
     "start_time": "2020-11-26T16:14:43.776947",
     "status": "completed"
    },
    "tags": []
   },
   "source": [
    "# Preprocessing data\n",
    "\n",
    "We start by loading the dataset and clean both training and validation data with regex replacements."
   ]
  },
  {
   "cell_type": "code",
   "execution_count": 2,
   "metadata": {
    "_cell_guid": "79c7e3d0-c299-4dcb-8224-4455121ee9b0",
    "_uuid": "d629ff2d2480ee46fbb7e2d37f6b5fab8052498a",
    "execution": {
     "iopub.execute_input": "2020-11-26T16:14:43.821310Z",
     "iopub.status.busy": "2020-11-26T16:14:43.820453Z",
     "iopub.status.idle": "2020-11-26T16:14:47.980091Z",
     "shell.execute_reply": "2020-11-26T16:14:47.980651Z"
    },
    "papermill": {
     "duration": 4.181796,
     "end_time": "2020-11-26T16:14:47.980864",
     "exception": false,
     "start_time": "2020-11-26T16:14:43.799068",
     "status": "completed"
    },
    "tags": []
   },
   "outputs": [],
   "source": [
    "def clean_data(text):\n",
    "    text = text.lower()\n",
    "    text = re.sub(r'[^(a-zA-Z0-9)\\s\\*\\+-\\/\\(\\)=&|]','', text)\n",
    "    return text\n",
    "\n",
    "train = pd.read_csv(\"/kaggle/input/60k-stack-overflow-questions-with-quality-rate/train.csv\")\n",
    "valid = pd.read_csv(\"/kaggle/input/60k-stack-overflow-questions-with-quality-rate/valid.csv\")\n",
    "\n",
    "train['Body'] = train['Body'].apply(clean_data)\n",
    "valid['Body'] = valid['Body'].apply(clean_data)\n"
   ]
  },
  {
   "cell_type": "markdown",
   "metadata": {
    "papermill": {
     "duration": 0.01115,
     "end_time": "2020-11-26T16:14:48.003767",
     "exception": false,
     "start_time": "2020-11-26T16:14:47.992617",
     "status": "completed"
    },
    "tags": []
   },
   "source": [
    "# Tokenize data\n",
    "The Tokenizer is initialized and fitted on the training data. The cleaned columns are then converted to integer vectors, before being padded with zeroes or shortened to an uniform length of 75 words."
   ]
  },
  {
   "cell_type": "code",
   "execution_count": 3,
   "metadata": {
    "execution": {
     "iopub.execute_input": "2020-11-26T16:14:48.054850Z",
     "iopub.status.busy": "2020-11-26T16:14:48.044584Z",
     "iopub.status.idle": "2020-11-26T16:15:05.846800Z",
     "shell.execute_reply": "2020-11-26T16:15:05.845686Z"
    },
    "papermill": {
     "duration": 17.83207,
     "end_time": "2020-11-26T16:15:05.846931",
     "exception": false,
     "start_time": "2020-11-26T16:14:48.014861",
     "status": "completed"
    },
    "tags": []
   },
   "outputs": [],
   "source": [
    "maxlength = 75\n",
    "\n",
    "tokenizer = tf.keras.preprocessing.text.Tokenizer(num_words=10000, filters='!\"#$%&()*+,-./:;=?@[\\\\]^_`{|}~\\t\\n\\r', lower=True, split=\" \")\n",
    "tokenizer.fit_on_texts(train['Body'])\n",
    "\n",
    "train_x = ks.preprocessing.sequence.pad_sequences(tokenizer.texts_to_sequences(train['Body']), maxlen=maxlength)\n",
    "valid_x = ks.preprocessing.sequence.pad_sequences(tokenizer.texts_to_sequences(valid['Body']), maxlen=maxlength)"
   ]
  },
  {
   "cell_type": "markdown",
   "metadata": {
    "papermill": {
     "duration": 0.011237,
     "end_time": "2020-11-26T16:15:05.869760",
     "exception": false,
     "start_time": "2020-11-26T16:15:05.858523",
     "status": "completed"
    },
    "tags": []
   },
   "source": [
    "# One-hot encode labels\n",
    "The label columns are then converted from classes to to integers, before being encoded as a one-hot matrix representation."
   ]
  },
  {
   "cell_type": "code",
   "execution_count": 4,
   "metadata": {
    "execution": {
     "iopub.execute_input": "2020-11-26T16:15:05.913645Z",
     "iopub.status.busy": "2020-11-26T16:15:05.912500Z",
     "iopub.status.idle": "2020-11-26T16:15:05.922649Z",
     "shell.execute_reply": "2020-11-26T16:15:05.922084Z"
    },
    "papermill": {
     "duration": 0.041548,
     "end_time": "2020-11-26T16:15:05.922786",
     "exception": false,
     "start_time": "2020-11-26T16:15:05.881238",
     "status": "completed"
    },
    "tags": []
   },
   "outputs": [],
   "source": [
    "train_y = train['Y'].map({'LQ_CLOSE':0, 'LQ_EDIT':1, 'HQ':2})\n",
    "valid_y = valid['Y'].map({'LQ_CLOSE':0, 'LQ_EDIT':1, 'HQ':2})\n",
    "\n",
    "train_y = ks.utils.to_categorical(train_y, num_classes=3)\n",
    "valid_y = ks.utils.to_categorical(valid_y, num_classes=3)"
   ]
  },
  {
   "cell_type": "markdown",
   "metadata": {
    "papermill": {
     "duration": 0.011279,
     "end_time": "2020-11-26T16:15:05.945776",
     "exception": false,
     "start_time": "2020-11-26T16:15:05.934497",
     "status": "completed"
    },
    "tags": []
   },
   "source": [
    "# Count word occurences\n",
    "Print number of word occurences in order to identify an appropriate input dimension."
   ]
  },
  {
   "cell_type": "code",
   "execution_count": 5,
   "metadata": {
    "execution": {
     "iopub.execute_input": "2020-11-26T16:15:06.128749Z",
     "iopub.status.busy": "2020-11-26T16:15:06.078538Z",
     "iopub.status.idle": "2020-11-26T16:15:06.133033Z",
     "shell.execute_reply": "2020-11-26T16:15:06.132402Z"
    },
    "papermill": {
     "duration": 0.175923,
     "end_time": "2020-11-26T16:15:06.133165",
     "exception": false,
     "start_time": "2020-11-26T16:15:05.957242",
     "status": "completed"
    },
    "tags": []
   },
   "outputs": [],
   "source": [
    "sortedwordindex = sorted(tokenizer.word_counts.items(), key=lambda x: x[1], reverse=True)\n",
    "# print(sortedwordindex)"
   ]
  },
  {
   "cell_type": "markdown",
   "metadata": {
    "papermill": {
     "duration": 0.011561,
     "end_time": "2020-11-26T16:15:06.156794",
     "exception": false,
     "start_time": "2020-11-26T16:15:06.145233",
     "status": "completed"
    },
    "tags": []
   },
   "source": [
    "# Defining the model\n",
    "Define a Keras Sequential model. The first layer is a word embedding layer that creates vectors between similar or associated words. Two layers of LSTM with half the dimensionality of the embedding layer is then applied before adding a final softmax activation layer with three possible outputs. The model is then compiled with an SGD-optimizer, using categorical crossentropy as loss function, and recording the accuracy as a metric."
   ]
  },
  {
   "cell_type": "code",
   "execution_count": 6,
   "metadata": {
    "execution": {
     "iopub.execute_input": "2020-11-26T16:15:06.189353Z",
     "iopub.status.busy": "2020-11-26T16:15:06.188700Z",
     "iopub.status.idle": "2020-11-26T16:15:10.542984Z",
     "shell.execute_reply": "2020-11-26T16:15:10.542281Z"
    },
    "papermill": {
     "duration": 4.374355,
     "end_time": "2020-11-26T16:15:10.543108",
     "exception": false,
     "start_time": "2020-11-26T16:15:06.168753",
     "status": "completed"
    },
    "tags": []
   },
   "outputs": [
    {
     "name": "stdout",
     "output_type": "stream",
     "text": [
      "Model: \"sequential\"\n",
      "_________________________________________________________________\n",
      "Layer (type)                 Output Shape              Param #   \n",
      "=================================================================\n",
      "embedding (Embedding)        (None, 75, 128)           1280000   \n",
      "_________________________________________________________________\n",
      "lstm (LSTM)                  (None, 75, 64)            49408     \n",
      "_________________________________________________________________\n",
      "lstm_1 (LSTM)                (None, 64)                33024     \n",
      "_________________________________________________________________\n",
      "dense (Dense)                (None, 3)                 195       \n",
      "=================================================================\n",
      "Total params: 1,362,627\n",
      "Trainable params: 1,362,627\n",
      "Non-trainable params: 0\n",
      "_________________________________________________________________\n"
     ]
    }
   ],
   "source": [
    "model = ks.Sequential()\n",
    "model.add(layers.Embedding(input_length=maxlength, input_dim=10000, output_dim=128))    \n",
    "model.add(layers.LSTM(64, return_sequences=True))\n",
    "model.add(layers.LSTM(64))\n",
    "model.add(layers.Dense(3, activation=\"softmax\"))\n",
    "model.compile(optimizer=ks.optimizers.SGD(learning_rate=(0.55)), loss=ks.losses.CategoricalCrossentropy(), metrics=['accuracy'])\n",
    "model.summary()"
   ]
  },
  {
   "cell_type": "markdown",
   "metadata": {
    "papermill": {
     "duration": 0.012208,
     "end_time": "2020-11-26T16:15:10.568403",
     "exception": false,
     "start_time": "2020-11-26T16:15:10.556195",
     "status": "completed"
    },
    "tags": []
   },
   "source": [
    "# Model training\n",
    "The model is trained with the training data, recording the performance on, but not training on, the validation set after each training epoch. The model is using an EarlyStopping callback in order to terminate when the model has stopped improving (more precisely when the validation loss starts increasing for at least 5 epochs). The model is then tested on the validation set and final loss and accuracy is printed.\n"
   ]
  },
  {
   "cell_type": "code",
   "execution_count": 7,
   "metadata": {
    "execution": {
     "iopub.execute_input": "2020-11-26T16:15:10.613627Z",
     "iopub.status.busy": "2020-11-26T16:15:10.612748Z",
     "iopub.status.idle": "2020-11-26T16:17:25.897900Z",
     "shell.execute_reply": "2020-11-26T16:17:25.897241Z"
    },
    "papermill": {
     "duration": 135.317124,
     "end_time": "2020-11-26T16:17:25.898055",
     "exception": false,
     "start_time": "2020-11-26T16:15:10.580931",
     "status": "completed"
    },
    "tags": []
   },
   "outputs": [
    {
     "name": "stdout",
     "output_type": "stream",
     "text": [
      "Epoch 1/20\n",
      "352/352 [==============================] - 7s 20ms/step - loss: 0.6785 - accuracy: 0.6042 - val_loss: 0.4852 - val_accuracy: 0.7032\n",
      "Epoch 2/20\n",
      "352/352 [==============================] - 6s 17ms/step - loss: 0.4510 - accuracy: 0.7454 - val_loss: 0.4611 - val_accuracy: 0.7075\n",
      "Epoch 3/20\n",
      "352/352 [==============================] - 6s 17ms/step - loss: 0.4375 - accuracy: 0.7606 - val_loss: 0.4196 - val_accuracy: 0.7810\n",
      "Epoch 4/20\n",
      "352/352 [==============================] - 6s 18ms/step - loss: 0.4050 - accuracy: 0.7956 - val_loss: 0.3635 - val_accuracy: 0.8294\n",
      "Epoch 5/20\n",
      "352/352 [==============================] - 7s 19ms/step - loss: 0.3743 - accuracy: 0.8241 - val_loss: 0.3502 - val_accuracy: 0.8429\n",
      "Epoch 6/20\n",
      "352/352 [==============================] - 6s 18ms/step - loss: 0.4356 - accuracy: 0.7672 - val_loss: 0.4592 - val_accuracy: 0.7454\n",
      "Epoch 7/20\n",
      "352/352 [==============================] - 7s 19ms/step - loss: 0.4426 - accuracy: 0.7564 - val_loss: 0.4285 - val_accuracy: 0.7779\n",
      "Epoch 8/20\n",
      "352/352 [==============================] - 6s 17ms/step - loss: 0.3791 - accuracy: 0.8152 - val_loss: 0.3639 - val_accuracy: 0.8359\n",
      "Epoch 9/20\n",
      "352/352 [==============================] - 6s 17ms/step - loss: 0.3438 - accuracy: 0.8395 - val_loss: 0.3166 - val_accuracy: 0.8561\n",
      "Epoch 10/20\n",
      "352/352 [==============================] - 6s 18ms/step - loss: 0.3200 - accuracy: 0.8552 - val_loss: 0.3216 - val_accuracy: 0.8573\n",
      "Epoch 11/20\n",
      "352/352 [==============================] - 6s 16ms/step - loss: 0.2947 - accuracy: 0.8705 - val_loss: 0.3014 - val_accuracy: 0.8681\n",
      "Epoch 12/20\n",
      "352/352 [==============================] - 6s 17ms/step - loss: 0.2804 - accuracy: 0.8792 - val_loss: 0.2829 - val_accuracy: 0.8757\n",
      "Epoch 13/20\n",
      "352/352 [==============================] - 6s 17ms/step - loss: 0.2646 - accuracy: 0.8884 - val_loss: 0.3538 - val_accuracy: 0.8467\n",
      "Epoch 14/20\n",
      "352/352 [==============================] - 6s 18ms/step - loss: 0.2517 - accuracy: 0.8941 - val_loss: 0.2646 - val_accuracy: 0.8845\n",
      "Epoch 15/20\n",
      "352/352 [==============================] - 6s 16ms/step - loss: 0.2406 - accuracy: 0.8993 - val_loss: 0.3164 - val_accuracy: 0.8644\n",
      "Epoch 16/20\n",
      "352/352 [==============================] - 7s 21ms/step - loss: 0.2295 - accuracy: 0.9065 - val_loss: 0.2856 - val_accuracy: 0.8831\n",
      "Epoch 17/20\n",
      "352/352 [==============================] - 6s 18ms/step - loss: 0.2180 - accuracy: 0.9107 - val_loss: 0.2657 - val_accuracy: 0.8902\n",
      "Epoch 18/20\n",
      "352/352 [==============================] - 6s 17ms/step - loss: 0.2110 - accuracy: 0.9127 - val_loss: 0.2614 - val_accuracy: 0.8915\n",
      "Epoch 19/20\n",
      "352/352 [==============================] - 6s 18ms/step - loss: 0.1997 - accuracy: 0.9188 - val_loss: 0.2687 - val_accuracy: 0.8884\n",
      "Epoch 20/20\n",
      "352/352 [==============================] - 6s 17ms/step - loss: 0.1897 - accuracy: 0.9246 - val_loss: 0.3031 - val_accuracy: 0.8785\n",
      "469/469 [==============================] - 3s 7ms/step - loss: 0.3031 - accuracy: 0.8785\n",
      "Loss:\t\t 0.3030911087989807 \n",
      "Accuracy:\t 0.8784666657447815\n"
     ]
    }
   ],
   "source": [
    "earlystopping = callbacks.EarlyStopping(monitor =\"val_loss\", mode =\"min\", patience = 5, restore_best_weights = True) \n",
    "  \n",
    "history_callback = model.fit(train_x, train_y, batch_size = 128, epochs = 20, validation_data =(valid_x, valid_y), callbacks =[earlystopping]) \n",
    "\n",
    "loss_history = history_callback.history\n",
    "\n",
    "loss, acc = model.evaluate(valid_x, valid_y, verbose=1)\n",
    "print('Loss:\\t\\t', loss, '\\nAccuracy:\\t', acc)"
   ]
  },
  {
   "cell_type": "markdown",
   "metadata": {
    "papermill": {
     "duration": 0.789204,
     "end_time": "2020-11-26T16:17:27.471515",
     "exception": false,
     "start_time": "2020-11-26T16:17:26.682311",
     "status": "completed"
    },
    "tags": []
   },
   "source": [
    "# Printing metrics\n",
    "Prints the loss and accuracy values for both training and validation set for each epoch during training."
   ]
  },
  {
   "cell_type": "code",
   "execution_count": 8,
   "metadata": {
    "execution": {
     "iopub.execute_input": "2020-11-26T16:17:29.077058Z",
     "iopub.status.busy": "2020-11-26T16:17:29.075951Z",
     "iopub.status.idle": "2020-11-26T16:17:29.086401Z",
     "shell.execute_reply": "2020-11-26T16:17:29.085832Z"
    },
    "papermill": {
     "duration": 0.804632,
     "end_time": "2020-11-26T16:17:29.086523",
     "exception": false,
     "start_time": "2020-11-26T16:17:28.281891",
     "status": "completed"
    },
    "tags": []
   },
   "outputs": [
    {
     "name": "stdout",
     "output_type": "stream",
     "text": [
      "Validation loss:\n",
      "\n",
      "[0.4851851761341095, 0.4611198604106903, 0.4196327328681946, 0.3634752035140991, 0.3502151072025299, 0.45915427803993225, 0.4284970462322235, 0.36386317014694214, 0.31658536195755005, 0.32163509726524353, 0.3013896048069, 0.2828918993473053, 0.35380280017852783, 0.2645973563194275, 0.3163857161998749, 0.2856082022190094, 0.2657149136066437, 0.2614314556121826, 0.26874974370002747, 0.30309104919433594]\n",
      "\n",
      "\n",
      "Validation accuracy:\n",
      "\n",
      "[0.7031999826431274, 0.7075333595275879, 0.781000018119812, 0.8294000029563904, 0.8429333567619324, 0.7454000115394592, 0.7779333591461182, 0.8358666896820068, 0.8560666441917419, 0.8572666645050049, 0.8681333065032959, 0.8757333159446716, 0.846666693687439, 0.8844666481018066, 0.8644000291824341, 0.8831333518028259, 0.8902000188827515, 0.8915333151817322, 0.8884000182151794, 0.8784666657447815]\n",
      "\n",
      "\n",
      "Training loss:\n",
      "\n",
      "[0.6785090565681458, 0.45103707909584045, 0.43752461671829224, 0.40499600768089294, 0.3743339478969574, 0.43556246161460876, 0.44263753294944763, 0.37912097573280334, 0.34377533197402954, 0.3199903964996338, 0.29472115635871887, 0.28040459752082825, 0.2645787298679352, 0.2517488896846771, 0.24058055877685547, 0.22953224182128906, 0.21802957355976105, 0.21102751791477203, 0.19965891540050507, 0.18972231447696686]\n",
      "\n",
      "\n",
      "Training accuracy:\n",
      "\n",
      "[0.6042444705963135, 0.745377779006958, 0.7606222033500671, 0.7955999970436096, 0.8241333365440369, 0.7672222256660461, 0.7563777565956116, 0.8152444362640381, 0.8395333290100098, 0.8551999926567078, 0.8704888820648193, 0.8791555762290955, 0.8884222507476807, 0.8941110968589783, 0.8992666602134705, 0.9064666628837585, 0.9107333421707153, 0.9126889109611511, 0.9187999963760376, 0.9246222376823425]\n",
      "\n",
      "\n"
     ]
    }
   ],
   "source": [
    "print(\"Validation loss:\\n\")\n",
    "print(str(loss_history[\"val_loss\"]) + \"\\n\\n\")\n",
    "print(\"Validation accuracy:\\n\")\n",
    "print(str(loss_history[\"val_accuracy\"]) + \"\\n\\n\")\n",
    "print(\"Training loss:\\n\")\n",
    "print(str(loss_history[\"loss\"]) + \"\\n\\n\")\n",
    "print(\"Training accuracy:\\n\")\n",
    "print(str(loss_history[\"accuracy\"]) + \"\\n\\n\")"
   ]
  }
 ],
 "metadata": {
  "kernelspec": {
   "display_name": "Python 3",
   "language": "python",
   "name": "python3"
  },
  "language_info": {
   "codemirror_mode": {
    "name": "ipython",
    "version": 3
   },
   "file_extension": ".py",
   "mimetype": "text/x-python",
   "name": "python",
   "nbconvert_exporter": "python",
   "pygments_lexer": "ipython3",
   "version": "3.7.6"
  },
  "papermill": {
   "duration": 179.180717,
   "end_time": "2020-11-26T16:17:31.460699",
   "environment_variables": {},
   "exception": null,
   "input_path": "__notebook__.ipynb",
   "output_path": "__notebook__.ipynb",
   "parameters": {},
   "start_time": "2020-11-26T16:14:32.279982",
   "version": "2.1.0"
  }
 },
 "nbformat": 4,
 "nbformat_minor": 4
}
